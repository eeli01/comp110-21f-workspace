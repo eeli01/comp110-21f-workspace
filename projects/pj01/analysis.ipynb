{
 "cells": [
  {
   "cell_type": "markdown",
   "metadata": {},
   "source": [
    "# Hypothesis: More people would want all sync classes than there are biology majors."
   ]
  },
  {
   "cell_type": "code",
   "execution_count": 53,
   "metadata": {},
   "outputs": [],
   "source": [
    "%reload_ext autoreload\n",
    "%autoreload 2"
   ]
  },
  {
   "cell_type": "markdown",
   "metadata": {},
   "source": [
    "## First I will read the csv and convert it to a column-oriented data table."
   ]
  },
  {
   "cell_type": "code",
   "execution_count": 54,
   "metadata": {},
   "outputs": [],
   "source": [
    "from data_utils import read_csv_rows, columnar\n",
    "\n",
    "data_rows: list[dict[str, str]] = read_csv_rows('../../data/survey.csv')\n",
    "columns: dict[str, list[str]] = columnar(data_rows)"
   ]
  },
  {
   "cell_type": "markdown",
   "metadata": {},
   "source": [
    "## Next, I will select the `primary_major` colummn. \n",
    "Here are the first five rows. "
   ]
  },
  {
   "cell_type": "code",
   "execution_count": 55,
   "metadata": {},
   "outputs": [
    {
     "data": {
      "text/html": [
       "<table>\n",
       "<thead>\n",
       "<tr><th>primary_major                   </th></tr>\n",
       "</thead>\n",
       "<tbody>\n",
       "<tr><td>Advertising and Public Relations</td></tr>\n",
       "<tr><td>Anthropology                    </td></tr>\n",
       "<tr><td>Biology                         </td></tr>\n",
       "<tr><td>Biology                         </td></tr>\n",
       "<tr><td>Biology                         </td></tr>\n",
       "</tbody>\n",
       "</table>"
      ],
      "text/plain": [
       "'<table>\\n<thead>\\n<tr><th>primary_major                   </th></tr>\\n</thead>\\n<tbody>\\n<tr><td>Advertising and Public Relations</td></tr>\\n<tr><td>Anthropology                    </td></tr>\\n<tr><td>Biology                         </td></tr>\\n<tr><td>Biology                         </td></tr>\\n<tr><td>Biology                         </td></tr>\\n</tbody>\\n</table>'"
      ]
     },
     "execution_count": 55,
     "metadata": {},
     "output_type": "execute_result"
    }
   ],
   "source": [
    "from data_utils import select, head\n",
    "from tabulate import tabulate\n",
    "\n",
    "major: dict[str, list[str]] = select(columns, [\"primary_major\"])\n",
    "data_cols_major: dict[str, list[str]] = head(major, 5)\n",
    "\n",
    "tabulate(data_cols_major, data_cols_major.keys(), \"html\")"
   ]
  },
  {
   "cell_type": "markdown",
   "metadata": {},
   "source": [
    "## Then, I select for the column `all_sync`.\n",
    "The first five rows of this row are as below."
   ]
  },
  {
   "cell_type": "code",
   "execution_count": 56,
   "metadata": {},
   "outputs": [
    {
     "data": {
      "text/html": [
       "<table>\n",
       "<thead>\n",
       "<tr><th style=\"text-align: right;\">  all_sync</th></tr>\n",
       "</thead>\n",
       "<tbody>\n",
       "<tr><td style=\"text-align: right;\">         2</td></tr>\n",
       "<tr><td style=\"text-align: right;\">         4</td></tr>\n",
       "<tr><td style=\"text-align: right;\">         1</td></tr>\n",
       "<tr><td style=\"text-align: right;\">         1</td></tr>\n",
       "<tr><td style=\"text-align: right;\">         1</td></tr>\n",
       "</tbody>\n",
       "</table>"
      ],
      "text/plain": [
       "'<table>\\n<thead>\\n<tr><th style=\"text-align: right;\">  all_sync</th></tr>\\n</thead>\\n<tbody>\\n<tr><td style=\"text-align: right;\">         2</td></tr>\\n<tr><td style=\"text-align: right;\">         4</td></tr>\\n<tr><td style=\"text-align: right;\">         1</td></tr>\\n<tr><td style=\"text-align: right;\">         1</td></tr>\\n<tr><td style=\"text-align: right;\">         1</td></tr>\\n</tbody>\\n</table>'"
      ]
     },
     "execution_count": 56,
     "metadata": {},
     "output_type": "execute_result"
    }
   ],
   "source": [
    "all_sync: dict[str, list[str]] = select(columns, [\"all_sync\"])\n",
    "data_cols_pre: dict[str, list[str]] = head(all_sync, 5)\n",
    "\n",
    "tabulate(data_cols_pre, data_cols_pre.keys(), \"html\")"
   ]
  },
  {
   "cell_type": "markdown",
   "metadata": {},
   "source": [
    "## I then will use the `column_values` function to isolate just the values of the `all_sync` column."
   ]
  },
  {
   "cell_type": "code",
   "execution_count": 57,
   "metadata": {},
   "outputs": [],
   "source": [
    "from data_utils import column_values\n",
    "\n",
    "values: list[str] = column_values(data_rows, \"all_sync\")"
   ]
  },
  {
   "cell_type": "markdown",
   "metadata": {},
   "source": [
    "## Next, I will use the output from above to filter out all answers not 5 or higher.\n",
    "These numbers represent the students who would rather have all classes synchronous."
   ]
  },
  {
   "cell_type": "code",
   "execution_count": 58,
   "metadata": {},
   "outputs": [],
   "source": [
    "from data_utils import filter\n",
    "\n",
    "filtered_list: list[str] = filter(values)"
   ]
  },
  {
   "cell_type": "markdown",
   "metadata": {},
   "source": [
    "## I will now loop through the `primary_major` and find the length of the `filtered_list` from above in order to compare the two lists."
   ]
  },
  {
   "cell_type": "code",
   "execution_count": 59,
   "metadata": {},
   "outputs": [
    {
     "name": "stdout",
     "output_type": "stream",
     "text": [
      "Biology majors: 59\n",
      "Want all synchronous classes: 165\n"
     ]
    }
   ],
   "source": [
    "from data_utils import count\n",
    "\n",
    "biology_count =  count(major[\"primary_major\"])\n",
    "print(f\"Biology majors: {biology_count['Biology']}\")\n",
    "\n",
    "sync_count = len(filtered_list)\n",
    "print(f\"Want all synchronous classes: {sync_count}\")"
   ]
  },
  {
   "cell_type": "markdown",
   "metadata": {},
   "source": [
    "## Finally, I will create a graph that shows the difference between the two answers."
   ]
  },
  {
   "cell_type": "code",
   "execution_count": 64,
   "metadata": {},
   "outputs": [
    {
     "data": {
      "text/plain": [
       "<AxesSubplot:>"
      ]
     },
     "execution_count": 64,
     "metadata": {},
     "output_type": "execute_result"
    },
    {
     "data": {
      "image/png": "[encoded data removed]",
      "text/plain": [
       "<Figure size 432x288 with 1 Axes>"
      ]
     },
     "metadata": {
      "needs_background": "light"
     },
     "output_type": "display_data"
    }
   ],
   "source": [
    "import seaborn \n",
    "\n",
    "seaborn.barplot(x=[\"Biology\", \"All_sync\"], y=[biology_count[\"Biology\"], sync_count])"
   ]
  },
  {
   "cell_type": "markdown",
   "metadata": {},
   "source": [
    "# In conclusion, the data is showing that more people do wish for all of the lectures be held synchronously than there are students who are biology majors."
   ]
  }
 ],
 "metadata": {
  "interpreter": {
   "hash": "949777d72b0d2535278d3dc13498b2535136f6dfe0678499012e853ee9abcab1"
  },
  "kernelspec": {
   "display_name": "Python 3.9.6 64-bit",
   "name": "python3"
  },
  "language_info": {
   "codemirror_mode": {
    "name": "ipython",
    "version": 3
   },
   "file_extension": ".py",
   "mimetype": "text/x-python",
   "name": "python",
   "nbconvert_exporter": "python",
   "pygments_lexer": "ipython3",
   "version": "3.9.6"
  },
  "orig_nbformat": 4
 },
 "nbformat": 4,
 "nbformat_minor": 2
}
