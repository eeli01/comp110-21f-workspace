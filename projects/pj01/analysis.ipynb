{
 "cells": [
  {
   "cell_type": "markdown",
   "metadata": {},
   "source": [
    "# Hypothesis: There are more biology majors than there are people who have taken the `MATH 232` prerequisite."
   ]
  },
  {
   "cell_type": "code",
   "execution_count": 2,
   "metadata": {},
   "outputs": [],
   "source": [
    "%reload_ext autoreload\n",
    "%autoreload 2"
   ]
  },
  {
   "cell_type": "markdown",
   "metadata": {},
   "source": [
    "## First I will read the csv and convert it to a column-oriented data table."
   ]
  },
  {
   "cell_type": "code",
   "execution_count": 16,
   "metadata": {},
   "outputs": [],
   "source": [
    "from data_utils import read_csv_rows, columnar\n",
    "\n",
    "data_rows: list[dict[str, str]] = read_csv_rows('../../data/survey.csv')\n",
    "columns: dict[str, list[str]] = columnar(data_rows)"
   ]
  },
  {
   "cell_type": "markdown",
   "metadata": {},
   "source": [
    "## Next, I will select the `primary_major` colummn. \n",
    "Here are the first five rows. "
   ]
  },
  {
   "cell_type": "code",
   "execution_count": 35,
   "metadata": {},
   "outputs": [
    {
     "data": {
      "text/html": [
       "<table>\n",
       "<thead>\n",
       "<tr><th>primary_major                   </th></tr>\n",
       "</thead>\n",
       "<tbody>\n",
       "<tr><td>Advertising and Public Relations</td></tr>\n",
       "<tr><td>Anthropology                    </td></tr>\n",
       "<tr><td>Biology                         </td></tr>\n",
       "<tr><td>Biology                         </td></tr>\n",
       "<tr><td>Biology                         </td></tr>\n",
       "</tbody>\n",
       "</table>"
      ],
      "text/plain": [
       "'<table>\\n<thead>\\n<tr><th>primary_major                   </th></tr>\\n</thead>\\n<tbody>\\n<tr><td>Advertising and Public Relations</td></tr>\\n<tr><td>Anthropology                    </td></tr>\\n<tr><td>Biology                         </td></tr>\\n<tr><td>Biology                         </td></tr>\\n<tr><td>Biology                         </td></tr>\\n</tbody>\\n</table>'"
      ]
     },
     "execution_count": 35,
     "metadata": {},
     "output_type": "execute_result"
    }
   ],
   "source": [
    "from data_utils import select, head\n",
    "from tabulate import tabulate\n",
    "\n",
    "major: dict[str, list[str]] = select(columns, [\"primary_major\"])\n",
    "data_cols_major: dict[str, list[str]] = head(major, 5)\n",
    "\n",
    "tabulate(data_cols_major, data_cols_major.keys(), \"html\")"
   ]
  },
  {
   "cell_type": "markdown",
   "metadata": {},
   "source": [
    "## Then, I select for the column `prereqs`.\n",
    "The first five rows of this row are as below."
   ]
  },
  {
   "cell_type": "code",
   "execution_count": 36,
   "metadata": {},
   "outputs": [
    {
     "data": {
      "text/html": [
       "<table>\n",
       "<thead>\n",
       "<tr><th>prereqs                                          </th></tr>\n",
       "</thead>\n",
       "<tbody>\n",
       "<tr><td>MATH 129P, MATH 130                              </td></tr>\n",
       "<tr><td>MATH 129P, MATH 231                              </td></tr>\n",
       "<tr><td>MATH 231, MATH 232, MATH 233, MATH 381           </td></tr>\n",
       "<tr><td>MATH 130, MATH 231                               </td></tr>\n",
       "<tr><td>MATH 129P, MATH 130, MATH 231, MATH 232, MATH 233</td></tr>\n",
       "</tbody>\n",
       "</table>"
      ],
      "text/plain": [
       "'<table>\\n<thead>\\n<tr><th>prereqs                                          </th></tr>\\n</thead>\\n<tbody>\\n<tr><td>MATH 129P, MATH 130                              </td></tr>\\n<tr><td>MATH 129P, MATH 231                              </td></tr>\\n<tr><td>MATH 231, MATH 232, MATH 233, MATH 381           </td></tr>\\n<tr><td>MATH 130, MATH 231                               </td></tr>\\n<tr><td>MATH 129P, MATH 130, MATH 231, MATH 232, MATH 233</td></tr>\\n</tbody>\\n</table>'"
      ]
     },
     "execution_count": 36,
     "metadata": {},
     "output_type": "execute_result"
    }
   ],
   "source": [
    "prereq: dict[str, list[str]] = select(columns, [\"prereqs\"])\n",
    "data_cols_pre: dict[str, list[str]] = head(prereq, 5)\n",
    "\n",
    "tabulate(data_cols_pre, data_cols_pre.keys(), \"html\")"
   ]
  },
  {
   "cell_type": "markdown",
   "metadata": {},
   "source": [
    "## I will now loop through the `primary_major` and `prereqs` columns and use the `count` function to find how many people answered 'biology' and how many people answered 'MATH 232\". "
   ]
  },
  {
   "cell_type": "code",
   "execution_count": 29,
   "metadata": {},
   "outputs": [
    {
     "name": "stdout",
     "output_type": "stream",
     "text": [
      "Biology majors: 59\n",
      "Taken MATH 232: 3\n"
     ]
    }
   ],
   "source": [
    "from data_utils import count\n",
    "\n",
    "biology_count =  count(major[\"primary_major\"])\n",
    "print(f\"Biology majors: {biology_count['Biology']}\")\n",
    "\n",
    "math_count = count(prereq[\"prereqs\"])\n",
    "print(f\"Taken MATH 232: {math_count['MATH 232']}\")"
   ]
  },
  {
   "cell_type": "markdown",
   "metadata": {},
   "source": [
    "## Finally, I will create a graph that shows the difference between the two answers."
   ]
  }
 ],
 "metadata": {
  "interpreter": {
   "hash": "949777d72b0d2535278d3dc13498b2535136f6dfe0678499012e853ee9abcab1"
  },
  "kernelspec": {
   "display_name": "Python 3.9.6 64-bit",
   "name": "python3"
  },
  "language_info": {
   "codemirror_mode": {
    "name": "ipython",
    "version": 3
   },
   "file_extension": ".py",
   "mimetype": "text/x-python",
   "name": "python",
   "nbconvert_exporter": "python",
   "pygments_lexer": "ipython3",
   "version": "3.9.6"
  },
  "orig_nbformat": 4
 },
 "nbformat": 4,
 "nbformat_minor": 2
}
